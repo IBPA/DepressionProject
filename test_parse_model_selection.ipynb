{
 "cells": [
  {
   "cell_type": "code",
   "execution_count": 15,
   "metadata": {},
   "outputs": [],
   "source": [
    "import pandas as pd\n",
    "import numpy as np\n",
    "import pickle\n",
    "\n",
    "CLASSIFIER_MODES = [\n",
    "    'decisiontreeclassifier',\n",
    "    'gaussiannb',\n",
    "    'multinomialnb',\n",
    "    'svc',\n",
    "    'adaboostclassifier',\n",
    "    'randomforestclassifier',\n",
    "    'mlpclassifier']\n",
    "\n",
    "def parse_model_selection_result(ms_result: tuple, mode: str) -> list:\n",
    "    \"\"\"Parse the model selection result tuple and get the best models.\n",
    "\n",
    "    Args:\n",
    "        ms_result: Model selection result tuple.\n",
    "\n",
    "    Returns:\n",
    "        List of best model and statistics for each classifiers.\n",
    "\n",
    "    \"\"\"\n",
    "    candidates, _ = ms_result\n",
    "    candidates = [(i, c, cv['best_f1']) for i, c, cv in candidates]\n",
    "\n",
    "    if mode == 'f1':\n",
    "        f1s_mean = []\n",
    "        for i, c, cv_best in candidates:\n",
    "            # Iterate over splits to calculate average F1 score.\n",
    "            f1s = [cv_best[f'split_{j}']['f1']\n",
    "                   for j in range(int(len(cv_best)/2) - 1)]\n",
    "            f1s_mean += [np.mean(np.nan_to_num(f1s))]\n",
    "\n",
    "        candidates = list(zip(candidates, f1s_mean))\n",
    "        candidates = sorted(candidates, key=lambda x: x[1], reverse=True)\n",
    "\n",
    "        best_candidate_per_clf = []\n",
    "        for clf in CLASSIFIER_MODES:\n",
    "            for (i, c, cv_best), f1_mean in candidates:\n",
    "                if c[3] == clf:\n",
    "                    if cv_best['param'] is not None:\n",
    "                        cv_best['param'] = {k.split('__')[-1]: v\n",
    "                                            for k, v in cv_best['param'].items()}\n",
    "\n",
    "                    best_candidate_per_clf += [((i, c, cv_best), f1_mean)]\n",
    "                    break\n",
    "        return best_candidate_per_clf\n",
    "    elif mode == 'balanced_accuracy':\n",
    "        candidates, _ = ms_result\n",
    "        # candidates = [(i, c, cv) for i, c, cv in candidates]\n",
    "        balanced_accuracys_mean = []\n",
    "        grid_results = []\n",
    "        for i, c, cv in candidates:\n",
    "            # parse every grid search result\n",
    "            for key in cv:\n",
    "                # Iterate over splits to calculate average F1 score for clf\n",
    "                result = cv[key]\n",
    "                balanced_accuracys = [result[f'split_{j}']['balanced_accuracy'] for j in range(int(len(result)/2) - 1)]\n",
    "                grid_results += [(i, c, result)]\n",
    "                balanced_accuracys_mean += [np.mean(np.nan_to_num(balanced_accuracys))]\n",
    "        candidates = list(zip(grid_results, balanced_accuracys_mean))\n",
    "        candidates = sorted(candidates, key=lambda x: x[1], reverse=True)\n",
    "\n",
    "        best_candidate_per_clf = []\n",
    "        for clf in CLASSIFIER_MODES:\n",
    "            for (i, c, cv), balanced_accuracy_mean in candidates:\n",
    "                if c[3] == clf:\n",
    "                    if cv['param'] is not None:\n",
    "                        cv['param'] = {k.split('__')[-1]: v\n",
    "                                            for k, v in cv['param'].items()}\n",
    "\n",
    "                    best_candidate_per_clf += [((i, c, cv), balanced_accuracy_mean)]\n",
    "                    break\n",
    "        return best_candidate_per_clf\n",
    "\n",
    "        # raise NotImplementedError\n",
    "    else:\n",
    "        raise ValueError(f\"Unknown mode: {mode}\")"
   ]
  },
  {
   "cell_type": "code",
   "execution_count": 16,
   "metadata": {},
   "outputs": [],
   "source": [
    "with open('./output/pval_filter_60_MVI/output_12to18_yesmental/results.pkl', 'rb') as f:\n",
    "        model_selection_result = pickle.load(f)"
   ]
  },
  {
   "cell_type": "code",
   "execution_count": 17,
   "metadata": {},
   "outputs": [
    {
     "name": "stdout",
     "output_type": "stream",
     "text": [
      "[((14, ('standard', 'knn', 'none', 'decisiontreeclassifier'), {'param': {'criterion': 'gini', 'max_depth': 1, 'min_samples_leaf': 1, 'min_samples_split': 2, 'random_state': 42, 'splitter': 'best'}, 'split_0': {'tn': 82.0, 'fp': 109.0, 'fn': 19.0, 'tp': 78.0, 'f1': 0.5492957746478873, 'balanced_accuracy': 0.6167215415339775}, 'split_0_train': {'tn': 317.0, 'fp': 447.0, 'fn': 91.0, 'tp': 296.0, 'f1': 0.5238938053097345, 'balanced_accuracy': 0.5898896735527686}, 'split_1': {'tn': 80.0, 'fp': 111.0, 'fn': 20.0, 'tp': 77.0, 'f1': 0.5403508771929825, 'balanced_accuracy': 0.6063313002644788}, 'split_1_train': {'tn': 319.0, 'fp': 445.0, 'fn': 90.0, 'tp': 297.0, 'f1': 0.5261293179805138, 'balanced_accuracy': 0.5924905637404115}, 'split_2': {'tn': 88.0, 'fp': 103.0, 'fn': 21.0, 'tp': 76.0, 'f1': 0.5507246376811594, 'balanced_accuracy': 0.6221190694661844}, 'split_2_train': {'tn': 311.0, 'fp': 453.0, 'fn': 89.0, 'tp': 298.0, 'f1': 0.523725834797891, 'balanced_accuracy': 0.5885469513102534}, 'split_3': {'tn': 67.0, 'fp': 124.0, 'fn': 28.0, 'tp': 69.0, 'f1': 0.4758620689655172, 'balanced_accuracy': 0.5310627732498516}, 'split_3_train': {'tn': 332.0, 'fp': 432.0, 'fn': 82.0, 'tp': 305.0, 'f1': 0.5427046263345195, 'balanced_accuracy': 0.6113343344562144}, 'split_4': {'tn': 82.0, 'fp': 109.0, 'fn': 22.0, 'tp': 74.0, 'f1': 0.5304659498207884, 'balanced_accuracy': 0.600076352530541}, 'split_4_train': {'tn': 317.0, 'fp': 447.0, 'fn': 88.0, 'tp': 300.0, 'f1': 0.5286343612334802, 'balanced_accuracy': 0.5940586711286231}}), 0.5290583396218866), ((99, ('minmax', 'iterative', 'none', 'gaussiannb'), {'param': None, 'split_0': {'tn': 139, 'fp': 52, 'fn': 49, 'tp': 48, 'f1': 0.4873096446700507, 'balanced_accuracy': 0.6112970259621093}, 'split_0_train': {'tn': 584, 'fp': 180, 'fn': 187, 'tp': 200, 'f1': 0.5215123859191655, 'balanced_accuracy': 0.6405968856961186}, 'split_1': {'tn': 147, 'fp': 44, 'fn': 55, 'tp': 42, 'f1': 0.45901639344262296, 'balanced_accuracy': 0.6013115992875263}, 'split_1_train': {'tn': 582, 'fp': 182, 'fn': 184, 'tp': 203, 'f1': 0.5259067357512954, 'balanced_accuracy': 0.6431639541648064}, 'split_2': {'tn': 136, 'fp': 55, 'fn': 51, 'tp': 46, 'f1': 0.46464646464646464, 'balanced_accuracy': 0.5931343444702326}, 'split_2_train': {'tn': 608, 'fp': 156, 'fn': 197, 'tp': 190, 'f1': 0.5184174624829467, 'balanced_accuracy': 0.6433837953380143}, 'split_3': {'tn': 152, 'fp': 39, 'fn': 46, 'tp': 51, 'f1': 0.5454545454545454, 'balanced_accuracy': 0.6607923571004479}, 'split_3_train': {'tn': 575, 'fp': 189, 'fn': 194, 'tp': 193, 'f1': 0.5019505851755526, 'balanced_accuracy': 0.6256629056915188}, 'split_4': {'tn': 144, 'fp': 47, 'fn': 52, 'tp': 44, 'f1': 0.47058823529411764, 'balanced_accuracy': 0.606130017452007}, 'split_4_train': {'tn': 599, 'fp': 165, 'fn': 194, 'tp': 194, 'f1': 0.5194109772423026, 'balanced_accuracy': 0.6420157068062827}}), 0.48910676205342096), ((79, ('minmax', 'knn', 'none', 'multinomialnb'), {'param': None, 'split_0': {'tn': 121, 'fp': 70, 'fn': 38, 'tp': 59, 'f1': 0.5221238938053097, 'balanced_accuracy': 0.6208776380417769}, 'split_0_train': {'tn': 523, 'fp': 241, 'fn': 165, 'tp': 222, 'f1': 0.5223529411764706, 'balanced_accuracy': 0.6290991923373513}, 'split_1': {'tn': 135, 'fp': 56, 'fn': 43, 'tp': 54, 'f1': 0.5217391304347826, 'balanced_accuracy': 0.631753656825174}, 'split_1_train': {'tn': 512, 'fp': 252, 'fn': 164, 'tp': 223, 'f1': 0.5174013921113689, 'balanced_accuracy': 0.6231922291218529}, 'split_2': {'tn': 120, 'fp': 71, 'fn': 48, 'tp': 49, 'f1': 0.45161290322580644, 'balanced_accuracy': 0.5667134452420791}, 'split_2_train': {'tn': 532, 'fp': 232, 'fn': 155, 'tp': 232, 'f1': 0.54524089306698, 'balanced_accuracy': 0.6479091413341992}, 'split_3': {'tn': 136, 'fp': 55, 'fn': 40, 'tp': 57, 'f1': 0.5454545454545455, 'balanced_accuracy': 0.6498353753980677}, 'split_3_train': {'tn': 519, 'fp': 245, 'fn': 174, 'tp': 213, 'f1': 0.5041420118343194, 'balanced_accuracy': 0.6148534843134867}, 'split_4': {'tn': 133, 'fp': 58, 'fn': 42, 'tp': 54, 'f1': 0.5192307692307692, 'balanced_accuracy': 0.6294175392670157}, 'split_4_train': {'tn': 523, 'fp': 241, 'fn': 166, 'tp': 222, 'f1': 0.5217391304347827, 'balanced_accuracy': 0.6283599611377988}}), 0.510232618230111), ((101, ('minmax', 'iterative', 'none', 'svc'), {'param': {'C': 0.03162277660168381, 'max_iter': 700, 'probability': True, 'random_state': 42}, 'split_0': {'tn': 49.0, 'fp': 142.0, 'fn': 7.0, 'tp': 90.0, 'f1': 0.547112462006079, 'balanced_accuracy': 0.5921897770820964}, 'split_0_train': {'tn': 222.0, 'fp': 542.0, 'fn': 38.0, 'tp': 349.0, 'f1': 0.5461658841940532, 'balanced_accuracy': 0.5961923508800411}, 'split_1': {'tn': 79.0, 'fp': 112.0, 'fn': 18.0, 'tp': 79.0, 'f1': 0.548611111111111, 'balanced_accuracy': 0.6140227775678739}, 'split_1_train': {'tn': 295.0, 'fp': 469.0, 'fn': 54.0, 'tp': 333.0, 'f1': 0.5601345668629101, 'balanced_accuracy': 0.6232953853646658}, 'split_2': {'tn': 95.0, 'fp': 96.0, 'fn': 29.0, 'tp': 68.0, 'f1': 0.5210727969348659, 'balanced_accuracy': 0.5992065633939656}, 'split_2_train': {'tn': 411.0, 'fp': 353.0, 'fn': 98.0, 'tp': 289.0, 'f1': 0.5617103984450923, 'balanced_accuracy': 0.6423640705115197}, 'split_3': {'tn': 48.0, 'fp': 143.0, 'fn': 13.0, 'tp': 84.0, 'f1': 0.5185185185185185, 'balanced_accuracy': 0.5586441409834296}, 'split_3_train': {'tn': 214.0, 'fp': 550.0, 'fn': 27.0, 'tp': 360.0, 'f1': 0.5551272166538165, 'balanced_accuracy': 0.6051686350907098}, 'split_4': {'tn': 79.0, 'fp': 112.0, 'fn': 22.0, 'tp': 74.0, 'f1': 0.524822695035461, 'balanced_accuracy': 0.5922229493891797}, 'split_4_train': {'tn': 336.0, 'fp': 428.0, 'fn': 68.0, 'tp': 320.0, 'f1': 0.5633802816901409, 'balanced_accuracy': 0.6322664219787337}}), 0.5338287221426437), ((81, ('minmax', 'knn', 'none', 'adaboostclassifier'), {'param': {'algorithm': 'SAMME', 'learning_rate': 0.1, 'n_estimators': 25, 'random_state': 42}, 'split_0': {'tn': 102.0, 'fp': 89.0, 'fn': 24.0, 'tp': 73.0, 'f1': 0.5637065637065637, 'balanced_accuracy': 0.6433043666000972}, 'split_0_train': {'tn': 433.0, 'fp': 331.0, 'fn': 105.0, 'tp': 282.0, 'f1': 0.5640000000000001, 'balanced_accuracy': 0.6477180486221031}, 'split_1': {'tn': 100.0, 'fp': 91.0, 'fn': 31.0, 'tp': 66.0, 'f1': 0.5196850393700787, 'balanced_accuracy': 0.6019862902790523}, 'split_1_train': {'tn': 396.0, 'fp': 368.0, 'fn': 80.0, 'tp': 307.0, 'f1': 0.5781544256120527, 'balanced_accuracy': 0.6558031305383065}, 'split_2': {'tn': 91.0, 'fp': 100.0, 'fn': 23.0, 'tp': 74.0, 'f1': 0.5461254612546125, 'balanced_accuracy': 0.6196631942570303}, 'split_2_train': {'tn': 413.0, 'fp': 351.0, 'fn': 84.0, 'tp': 303.0, 'f1': 0.5821325648414986, 'balanced_accuracy': 0.6617608263322374}, 'split_3': {'tn': 93.0, 'fp': 98.0, 'fn': 23.0, 'tp': 74.0, 'f1': 0.550185873605948, 'balanced_accuracy': 0.6248987963512711}, 'split_3_train': {'tn': 399.0, 'fp': 365.0, 'fn': 72.0, 'tp': 315.0, 'f1': 0.5904404873477038, 'balanced_accuracy': 0.6681023986363083}, 'split_4': {'tn': 100.0, 'fp': 91.0, 'fn': 28.0, 'tp': 68.0, 'f1': 0.5333333333333333, 'balanced_accuracy': 0.6159467713787086}, 'split_4_train': {'tn': 410.0, 'fp': 354.0, 'fn': 97.0, 'tp': 291.0, 'f1': 0.563407550822846, 'balanced_accuracy': 0.6433246073298429}}), 0.5449257344843007), ((54, ('standard', 'missforest', 'lof', 'randomforestclassifier'), {'param': {'class_weight': 'balanced', 'criterion': 'gini', 'max_depth': 1, 'max_features': 'sqrt', 'min_samples_split': 5, 'n_estimators': 300, 'random_state': 42}, 'split_0': {'tn': 133.0, 'fp': 53.0, 'fn': 44.0, 'tp': 44.0, 'f1': 0.4756756756756757, 'balanced_accuracy': 0.6075268817204301}, 'split_0_train': {'tn': 572.0, 'fp': 172.0, 'fn': 152.0, 'tp': 197.0, 'f1': 0.5487465181058495, 'balanced_accuracy': 0.6666435591705949}, 'split_1': {'tn': 139.0, 'fp': 47.0, 'fn': 37.0, 'tp': 51.0, 'f1': 0.5483870967741936, 'balanced_accuracy': 0.6634286412512219}, 'split_1_train': {'tn': 551.0, 'fp': 193.0, 'fn': 159.0, 'tp': 190.0, 'f1': 0.5191256830601092, 'balanced_accuracy': 0.6425020026496595}, 'split_2': {'tn': 141.0, 'fp': 45.0, 'fn': 37.0, 'tp': 50.0, 'f1': 0.5494505494505495, 'balanced_accuracy': 0.6663885799035966}, 'split_2_train': {'tn': 567.0, 'fp': 177.0, 'fn': 150.0, 'tp': 200.0, 'f1': 0.5502063273727648, 'balanced_accuracy': 0.6667626728110598}, 'split_3': {'tn': 141.0, 'fp': 45.0, 'fn': 52.0, 'tp': 35.0, 'f1': 0.4191616766467066, 'balanced_accuracy': 0.5801816833518725}, 'split_3_train': {'tn': 571.0, 'fp': 173.0, 'fn': 157.0, 'tp': 193.0, 'f1': 0.5391061452513967, 'balanced_accuracy': 0.6594508448540706}, 'split_4': {'tn': 145.0, 'fp': 41.0, 'fn': 43.0, 'tp': 44.0, 'f1': 0.5116279069767442, 'balanced_accuracy': 0.64265850945495}, 'split_4_train': {'tn': 574.0, 'fp': 170.0, 'fn': 164.0, 'tp': 186.0, 'f1': 0.5269121813031161, 'balanced_accuracy': 0.6514669738863288}}), 0.4981687496367813), ((146, ('robust', 'knn', 'none', 'mlpclassifier'), {'param': {'alpha': 23.442288153199215, 'hidden_layer_sizes': (50,), 'max_iter': 100, 'random_state': 42}, 'split_0': {'tn': 121.0, 'fp': 70.0, 'fn': 27.0, 'tp': 70.0, 'f1': 0.590717299578059, 'balanced_accuracy': 0.6775786689696119}, 'split_0_train': {'tn': 514.0, 'fp': 250.0, 'fn': 114.0, 'tp': 273.0, 'f1': 0.6, 'balanced_accuracy': 0.6891006128495475}, 'split_1': {'tn': 136.0, 'fp': 55.0, 'fn': 47.0, 'tp': 50.0, 'f1': 0.495049504950495, 'balanced_accuracy': 0.6137529011712635}, 'split_1_train': {'tn': 529.0, 'fp': 235.0, 'fn': 114.0, 'tp': 273.0, 'f1': 0.6100558659217877, 'balanced_accuracy': 0.698917366776249}, 'split_2': {'tn': 112.0, 'fp': 79.0, 'fn': 41.0, 'tp': 56.0, 'f1': 0.48275862068965514, 'balanced_accuracy': 0.5818535110919199}, 'split_2_train': {'tn': 534.0, 'fp': 230.0, 'fn': 117.0, 'tp': 270.0, 'f1': 0.608793686583991, 'balanced_accuracy': 0.6983136490929015}, 'split_3': {'tn': 139.0, 'fp': 52.0, 'fn': 36.0, 'tp': 61.0, 'f1': 0.580952380952381, 'balanced_accuracy': 0.6783073352404598}, 'split_3_train': {'tn': 541.0, 'fp': 223.0, 'fn': 134.0, 'tp': 253.0, 'f1': 0.5863267670915412, 'balanced_accuracy': 0.6809309766359566}, 'split_4': {'tn': 125.0, 'fp': 66.0, 'fn': 35.0, 'tp': 61.0, 'f1': 0.547085201793722, 'balanced_accuracy': 0.6449334642233857}, 'split_4_train': {'tn': 532.0, 'fp': 232.0, 'fn': 117.0, 'tp': 271.0, 'f1': 0.6083052749719415, 'balanced_accuracy': 0.697394343390727}}), 0.5373694515426476)]\n"
     ]
    }
   ],
   "source": [
    "mode = \"f1\"\n",
    "best_candidate_per_clf = parse_model_selection_result(\n",
    "    model_selection_result, mode)\n",
    "print(best_candidate_per_clf)"
   ]
  },
  {
   "cell_type": "code",
   "execution_count": 18,
   "metadata": {},
   "outputs": [
    {
     "name": "stdout",
     "output_type": "stream",
     "text": [
      "[((168, ('robust', 'missforest', 'isolation_forest', 'decisiontreeclassifier'), {'param': {'criterion': 'entropy', 'max_depth': 5, 'min_samples_leaf': 9, 'min_samples_split': 2, 'random_state': 42, 'splitter': 'random'}, 'split_0': {'tn': 131.0, 'fp': 54.0, 'fn': 42.0, 'tp': 47.0, 'f1': 0.49473684210526314, 'balanced_accuracy': 0.6180989978742788}, 'split_0_train': {'tn': 491.0, 'fp': 248.0, 'fn': 131.0, 'tp': 223.0, 'f1': 0.5406060606060606, 'balanced_accuracy': 0.6471774347683157}, 'split_1': {'tn': 128.0, 'fp': 57.0, 'fn': 38.0, 'tp': 51.0, 'f1': 0.5177664974619289, 'balanced_accuracy': 0.6324627998785302}, 'split_1_train': {'tn': 496.0, 'fp': 243.0, 'fn': 137.0, 'tp': 217.0, 'f1': 0.5331695331695332, 'balanced_accuracy': 0.6420858084294703}, 'split_2': {'tn': 113.0, 'fp': 72.0, 'fn': 33.0, 'tp': 55.0, 'f1': 0.5116279069767442, 'balanced_accuracy': 0.6179054054054054}, 'split_2_train': {'tn': 536.0, 'fp': 203.0, 'fn': 146.0, 'tp': 209.0, 'f1': 0.544980443285528, 'balanced_accuracy': 0.6570184299300539}, 'split_3': {'tn': 149.0, 'fp': 36.0, 'fn': 48.0, 'tp': 40.0, 'f1': 0.4878048780487805, 'balanced_accuracy': 0.62997542997543}, 'split_3_train': {'tn': 604.0, 'fp': 135.0, 'fn': 174.0, 'tp': 181.0, 'f1': 0.5394932935916542, 'balanced_accuracy': 0.6635899292915817}, 'split_4': {'tn': 146.0, 'fp': 38.0, 'fn': 57.0, 'tp': 32.0, 'f1': 0.4025157232704403, 'balanced_accuracy': 0.576514411333659}, 'split_4_train': {'tn': 619.0, 'fp': 121.0, 'fn': 176.0, 'tp': 178.0, 'f1': 0.545176110260337, 'balanced_accuracy': 0.6696556726217744}}), 0.6246106582834111), ((99, ('minmax', 'iterative', 'none', 'gaussiannb'), {'param': None, 'split_0': {'tn': 139, 'fp': 52, 'fn': 49, 'tp': 48, 'f1': 0.4873096446700507, 'balanced_accuracy': 0.6112970259621093}, 'split_0_train': {'tn': 584, 'fp': 180, 'fn': 187, 'tp': 200, 'f1': 0.5215123859191655, 'balanced_accuracy': 0.6405968856961186}, 'split_1': {'tn': 147, 'fp': 44, 'fn': 55, 'tp': 42, 'f1': 0.45901639344262296, 'balanced_accuracy': 0.6013115992875263}, 'split_1_train': {'tn': 582, 'fp': 182, 'fn': 184, 'tp': 203, 'f1': 0.5259067357512954, 'balanced_accuracy': 0.6431639541648064}, 'split_2': {'tn': 136, 'fp': 55, 'fn': 51, 'tp': 46, 'f1': 0.46464646464646464, 'balanced_accuracy': 0.5931343444702326}, 'split_2_train': {'tn': 608, 'fp': 156, 'fn': 197, 'tp': 190, 'f1': 0.5184174624829467, 'balanced_accuracy': 0.6433837953380143}, 'split_3': {'tn': 152, 'fp': 39, 'fn': 46, 'tp': 51, 'f1': 0.5454545454545454, 'balanced_accuracy': 0.6607923571004479}, 'split_3_train': {'tn': 575, 'fp': 189, 'fn': 194, 'tp': 193, 'f1': 0.5019505851755526, 'balanced_accuracy': 0.6256629056915188}, 'split_4': {'tn': 144, 'fp': 47, 'fn': 52, 'tp': 44, 'f1': 0.47058823529411764, 'balanced_accuracy': 0.606130017452007}, 'split_4_train': {'tn': 599, 'fp': 165, 'fn': 194, 'tp': 194, 'f1': 0.5194109772423026, 'balanced_accuracy': 0.6420157068062827}}), 0.616633831705079), ((79, ('minmax', 'knn', 'none', 'multinomialnb'), {'param': None, 'split_0': {'tn': 121, 'fp': 70, 'fn': 38, 'tp': 59, 'f1': 0.5221238938053097, 'balanced_accuracy': 0.6208776380417769}, 'split_0_train': {'tn': 523, 'fp': 241, 'fn': 165, 'tp': 222, 'f1': 0.5223529411764706, 'balanced_accuracy': 0.6290991923373513}, 'split_1': {'tn': 135, 'fp': 56, 'fn': 43, 'tp': 54, 'f1': 0.5217391304347826, 'balanced_accuracy': 0.631753656825174}, 'split_1_train': {'tn': 512, 'fp': 252, 'fn': 164, 'tp': 223, 'f1': 0.5174013921113689, 'balanced_accuracy': 0.6231922291218529}, 'split_2': {'tn': 120, 'fp': 71, 'fn': 48, 'tp': 49, 'f1': 0.45161290322580644, 'balanced_accuracy': 0.5667134452420791}, 'split_2_train': {'tn': 532, 'fp': 232, 'fn': 155, 'tp': 232, 'f1': 0.54524089306698, 'balanced_accuracy': 0.6479091413341992}, 'split_3': {'tn': 136, 'fp': 55, 'fn': 40, 'tp': 57, 'f1': 0.5454545454545455, 'balanced_accuracy': 0.6498353753980677}, 'split_3_train': {'tn': 519, 'fp': 245, 'fn': 174, 'tp': 213, 'f1': 0.5041420118343194, 'balanced_accuracy': 0.6148534843134867}, 'split_4': {'tn': 133, 'fp': 58, 'fn': 42, 'tp': 54, 'f1': 0.5192307692307692, 'balanced_accuracy': 0.6294175392670157}, 'split_4_train': {'tn': 523, 'fp': 241, 'fn': 166, 'tp': 222, 'f1': 0.5217391304347827, 'balanced_accuracy': 0.6283599611377988}}), 0.6172950288767745), ((80, ('minmax', 'knn', 'none', 'svc'), {'param': {'C': 0.06309573444801936, 'max_iter': 900, 'probability': True, 'random_state': 42}, 'split_0': {'tn': 135.0, 'fp': 56.0, 'fn': 45.0, 'tp': 52.0, 'f1': 0.5073170731707317, 'balanced_accuracy': 0.6214443784746586}, 'split_0_train': {'tn': 568.0, 'fp': 196.0, 'fn': 172.0, 'tp': 215.0, 'f1': 0.5388471177944862, 'balanced_accuracy': 0.6495055264688773}, 'split_1': {'tn': 147.0, 'fp': 44.0, 'fn': 48.0, 'tp': 49.0, 'f1': 0.5157894736842106, 'balanced_accuracy': 0.6373940735143304}, 'split_1_train': {'tn': 574.0, 'fp': 190.0, 'fn': 182.0, 'tp': 205.0, 'f1': 0.5242966751918159, 'balanced_accuracy': 0.6405123313987311}, 'split_2': {'tn': 132.0, 'fp': 59.0, 'fn': 51.0, 'tp': 46.0, 'f1': 0.4554455445544554, 'balanced_accuracy': 0.5826631402817509}, 'split_2_train': {'tn': 580.0, 'fp': 184.0, 'fn': 178.0, 'tp': 209.0, 'f1': 0.5358974358974359, 'balanced_accuracy': 0.6496069916257423}, 'split_3': {'tn': 135.0, 'fp': 56.0, 'fn': 38.0, 'tp': 59.0, 'f1': 0.5566037735849056, 'balanced_accuracy': 0.6575268527014627}, 'split_3_train': {'tn': 532.0, 'fp': 232.0, 'fn': 160.0, 'tp': 227.0, 'f1': 0.536643026004728, 'balanced_accuracy': 0.6414491930137858}, 'split_4': {'tn': 142.0, 'fp': 49.0, 'fn': 46.0, 'tp': 50.0, 'f1': 0.5128205128205129, 'balanced_accuracy': 0.6321444153577662}, 'split_4_train': {'tn': 565.0, 'fp': 199.0, 'fn': 169.0, 'tp': 219.0, 'f1': 0.543424317617866, 'balanced_accuracy': 0.6519808927511199}}), 0.6247571112430507), ((81, ('minmax', 'knn', 'none', 'adaboostclassifier'), {'param': {'algorithm': 'SAMME', 'learning_rate': 0.1, 'n_estimators': 75, 'random_state': 42}, 'split_0': {'tn': 122.0, 'fp': 69.0, 'fn': 35.0, 'tp': 62.0, 'f1': 0.5438596491228069, 'balanced_accuracy': 0.6389593566146705}, 'split_0_train': {'tn': 523.0, 'fp': 241.0, 'fn': 140.0, 'tp': 247.0, 'f1': 0.5645714285714285, 'balanced_accuracy': 0.6613989339394185}, 'split_1': {'tn': 126.0, 'fp': 65.0, 'fn': 38.0, 'tp': 59.0, 'f1': 0.5339366515837104, 'balanced_accuracy': 0.633966643277379}, 'split_1_train': {'tn': 494.0, 'fp': 270.0, 'fn': 117.0, 'tp': 270.0, 'f1': 0.5825242718446603, 'balanced_accuracy': 0.6721356386216973}, 'split_2': {'tn': 122.0, 'fp': 69.0, 'fn': 31.0, 'tp': 66.0, 'f1': 0.5689655172413792, 'balanced_accuracy': 0.6595779133157014}, 'split_2_train': {'tn': 504.0, 'fp': 260.0, 'fn': 123.0, 'tp': 264.0, 'f1': 0.5795828759604829, 'balanced_accuracy': 0.6709282032550022}, 'split_3': {'tn': 120.0, 'fp': 71.0, 'fn': 36.0, 'tp': 61.0, 'f1': 0.5327510917030568, 'balanced_accuracy': 0.6285691153451719}, 'split_3_train': {'tn': 490.0, 'fp': 274.0, 'fn': 127.0, 'tp': 260.0, 'f1': 0.5646036916395223, 'balanced_accuracy': 0.65659794093375}, 'split_4': {'tn': 123.0, 'fp': 68.0, 'fn': 42.0, 'tp': 54.0, 'f1': 0.4954128440366972, 'balanced_accuracy': 0.6032395287958114}, 'split_4_train': {'tn': 507.0, 'fp': 257.0, 'fn': 133.0, 'tp': 255.0, 'f1': 0.5666666666666668, 'balanced_accuracy': 0.6604145301451936}}), 0.6402682571382307), ((54, ('standard', 'missforest', 'lof', 'randomforestclassifier'), {'param': {'class_weight': 'balanced', 'criterion': 'entropy', 'max_depth': 4, 'max_features': 'sqrt', 'min_samples_split': 45, 'n_estimators': 100, 'random_state': 42}, 'split_0': {'tn': 139.0, 'fp': 47.0, 'fn': 52.0, 'tp': 36.0, 'f1': 0.42105263157894735, 'balanced_accuracy': 0.5782013685239492}, 'split_0_train': {'tn': 634.0, 'fp': 110.0, 'fn': 130.0, 'tp': 219.0, 'f1': 0.6460176991150441, 'balanced_accuracy': 0.7398288504790954}, 'split_1': {'tn': 151.0, 'fp': 35.0, 'fn': 37.0, 'tp': 51.0, 'f1': 0.5862068965517242, 'balanced_accuracy': 0.6956867057673509}, 'split_1_train': {'tn': 637.0, 'fp': 107.0, 'fn': 139.0, 'tp': 210.0, 'f1': 0.6306306306306306, 'balanced_accuracy': 0.7289509967033305}, 'split_2': {'tn': 148.0, 'fp': 38.0, 'fn': 43.0, 'tp': 44.0, 'f1': 0.5207100591715976, 'balanced_accuracy': 0.6507230255839822}, 'split_2_train': {'tn': 636.0, 'fp': 108.0, 'fn': 131.0, 'tp': 219.0, 'f1': 0.6469719350073855, 'balanced_accuracy': 0.7402764976958525}, 'split_3': {'tn': 155.0, 'fp': 31.0, 'fn': 53.0, 'tp': 34.0, 'f1': 0.4473684210526316, 'balanced_accuracy': 0.6120689655172414}, 'split_3_train': {'tn': 643.0, 'fp': 101.0, 'fn': 142.0, 'tp': 208.0, 'f1': 0.6312594840667678, 'balanced_accuracy': 0.7292665130568357}, 'split_4': {'tn': 155.0, 'fp': 31.0, 'fn': 50.0, 'tp': 37.0, 'f1': 0.4774193548387097, 'balanced_accuracy': 0.6293103448275862}, 'split_4_train': {'tn': 635.0, 'fp': 109.0, 'fn': 137.0, 'tp': 213.0, 'f1': 0.6339285714285713, 'balanced_accuracy': 0.7310330261136713}}), 0.634170016348131), ((13, ('standard', 'knn', 'lof', 'mlpclassifier'), {'param': {'alpha': 38.018939632056124, 'hidden_layer_sizes': (50,), 'max_iter': 100, 'random_state': 42}, 'split_0': {'tn': 121.0, 'fp': 63.0, 'fn': 25.0, 'tp': 65.0, 'f1': 0.5963302752293578, 'balanced_accuracy': 0.6899154589371981}, 'split_0_train': {'tn': 481.0, 'fp': 253.0, 'fn': 127.0, 'tp': 232.0, 'f1': 0.5497630331753555, 'balanced_accuracy': 0.6507764529080932}, 'split_1': {'tn': 109.0, 'fp': 75.0, 'fn': 33.0, 'tp': 57.0, 'f1': 0.5135135135135135, 'balanced_accuracy': 0.6128623188405797}, 'split_1_train': {'tn': 500.0, 'fp': 234.0, 'fn': 117.0, 'tp': 242.0, 'f1': 0.5796407185628742, 'balanced_accuracy': 0.6776468088013177}, 'split_2': {'tn': 125.0, 'fp': 59.0, 'fn': 46.0, 'tp': 43.0, 'f1': 0.450261780104712, 'balanced_accuracy': 0.5812469467513435}, 'split_2_train': {'tn': 503.0, 'fp': 231.0, 'fn': 116.0, 'tp': 244.0, 'f1': 0.5844311377245509, 'balanced_accuracy': 0.681531940660006}, 'split_3': {'tn': 123.0, 'fp': 60.0, 'fn': 29.0, 'tp': 61.0, 'f1': 0.5781990521327014, 'balanced_accuracy': 0.6749544626593806}, 'split_3_train': {'tn': 463.0, 'fp': 272.0, 'fn': 117.0, 'tp': 242.0, 'f1': 0.554410080183276, 'balanced_accuracy': 0.6520133401550035}, 'split_4': {'tn': 123.0, 'fp': 60.0, 'fn': 36.0, 'tp': 54.0, 'f1': 0.5294117647058824, 'balanced_accuracy': 0.6360655737704918}, 'split_4_train': {'tn': 506.0, 'fp': 229.0, 'fn': 128.0, 'tp': 231.0, 'f1': 0.5641025641025641, 'balanced_accuracy': 0.6659447065734372}}), 0.6397447967971255)]\n"
     ]
    }
   ],
   "source": [
    "mode = \"balanced_accuracy\"\n",
    "best_candidate_per_clf = parse_model_selection_result(\n",
    "    model_selection_result, mode)\n",
    "print(best_candidate_per_clf)"
   ]
  },
  {
   "cell_type": "code",
   "execution_count": 19,
   "metadata": {},
   "outputs": [
    {
     "data": {
      "text/html": [
       "<div>\n",
       "<style scoped>\n",
       "    .dataframe tbody tr th:only-of-type {\n",
       "        vertical-align: middle;\n",
       "    }\n",
       "\n",
       "    .dataframe tbody tr th {\n",
       "        vertical-align: top;\n",
       "    }\n",
       "\n",
       "    .dataframe thead th {\n",
       "        text-align: right;\n",
       "    }\n",
       "</style>\n",
       "<table border=\"1\" class=\"dataframe\">\n",
       "  <thead>\n",
       "    <tr style=\"text-align: right;\">\n",
       "      <th></th>\n",
       "      <th>0</th>\n",
       "      <th>1</th>\n",
       "    </tr>\n",
       "  </thead>\n",
       "  <tbody>\n",
       "    <tr>\n",
       "      <th>0</th>\n",
       "      <td>(168, (robust, missforest, isolation_forest, d...</td>\n",
       "      <td>0.624611</td>\n",
       "    </tr>\n",
       "    <tr>\n",
       "      <th>1</th>\n",
       "      <td>(99, (minmax, iterative, none, gaussiannb), {'...</td>\n",
       "      <td>0.616634</td>\n",
       "    </tr>\n",
       "    <tr>\n",
       "      <th>2</th>\n",
       "      <td>(79, (minmax, knn, none, multinomialnb), {'par...</td>\n",
       "      <td>0.617295</td>\n",
       "    </tr>\n",
       "    <tr>\n",
       "      <th>3</th>\n",
       "      <td>(80, (minmax, knn, none, svc), {'param': {'C':...</td>\n",
       "      <td>0.624757</td>\n",
       "    </tr>\n",
       "    <tr>\n",
       "      <th>4</th>\n",
       "      <td>(81, (minmax, knn, none, adaboostclassifier), ...</td>\n",
       "      <td>0.640268</td>\n",
       "    </tr>\n",
       "    <tr>\n",
       "      <th>5</th>\n",
       "      <td>(54, (standard, missforest, lof, randomforestc...</td>\n",
       "      <td>0.634170</td>\n",
       "    </tr>\n",
       "    <tr>\n",
       "      <th>6</th>\n",
       "      <td>(13, (standard, knn, lof, mlpclassifier), {'pa...</td>\n",
       "      <td>0.639745</td>\n",
       "    </tr>\n",
       "  </tbody>\n",
       "</table>\n",
       "</div>"
      ],
      "text/plain": [
       "                                                   0         1\n",
       "0  (168, (robust, missforest, isolation_forest, d...  0.624611\n",
       "1  (99, (minmax, iterative, none, gaussiannb), {'...  0.616634\n",
       "2  (79, (minmax, knn, none, multinomialnb), {'par...  0.617295\n",
       "3  (80, (minmax, knn, none, svc), {'param': {'C':...  0.624757\n",
       "4  (81, (minmax, knn, none, adaboostclassifier), ...  0.640268\n",
       "5  (54, (standard, missforest, lof, randomforestc...  0.634170\n",
       "6  (13, (standard, knn, lof, mlpclassifier), {'pa...  0.639745"
      ]
     },
     "execution_count": 19,
     "metadata": {},
     "output_type": "execute_result"
    }
   ],
   "source": [
    "pd.DataFrame(best_candidate_per_clf)"
   ]
  }
 ],
 "metadata": {
  "interpreter": {
   "hash": "fe8a4c17498bfb38ff1297e9cf3182f98fb96035d105efd51d0d5c4b40f5a2b2"
  },
  "kernelspec": {
   "display_name": "Python 3.10.0 ('.depressionnew')",
   "language": "python",
   "name": "python3"
  },
  "language_info": {
   "codemirror_mode": {
    "name": "ipython",
    "version": 3
   },
   "file_extension": ".py",
   "mimetype": "text/x-python",
   "name": "python",
   "nbconvert_exporter": "python",
   "pygments_lexer": "ipython3",
   "version": "3.10.0"
  },
  "orig_nbformat": 4
 },
 "nbformat": 4,
 "nbformat_minor": 2
}
