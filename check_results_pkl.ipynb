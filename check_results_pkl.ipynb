{
 "cells": [
  {
   "cell_type": "code",
   "execution_count": 9,
   "metadata": {},
   "outputs": [],
   "source": [
    "import pandas as pd\n",
    "import numpy as np\n",
    "import pickle\n",
    "\n",
    "CLASSIFIER_MODES = [\n",
    "    'decisiontreeclassifier',\n",
    "    'gaussiannb',\n",
    "    'multinomialnb',\n",
    "    'svc',\n",
    "    'adaboostclassifier',\n",
    "    'randomforestclassifier',\n",
    "    'mlpclassifier']\n",
    "\n",
    "def parse_model_selection_result(ms_result: tuple) -> list:\n",
    "    \"\"\"Parse the model selection result tuple and get the best models.\n",
    "\n",
    "    Args:\n",
    "        ms_result: Model selection result tuple.\n",
    "\n",
    "    Returns:\n",
    "        List of best model and statistics for each classifiers.\n",
    "\n",
    "    \"\"\"\n",
    "    candidates, _ = ms_result\n",
    "    candidates = [(i, c, cv['best']) for i, c, cv in candidates]\n",
    "\n",
    "    f1s_mean = []\n",
    "    for i, c, cv_best in candidates:\n",
    "        # Iterate over splits to calculate average F1 score.\n",
    "        f1s = [cv_best[f'split_{j}']['f1'] for j in range(len(cv_best) - 1)]\n",
    "        f1s_mean += [np.mean(np.nan_to_num(f1s))]\n",
    "\n",
    "    candidates = list(zip(candidates, f1s_mean))\n",
    "    candidates = sorted(candidates, key=lambda x: x[1], reverse=True)\n",
    "\n",
    "    best_candidate_per_clf = []\n",
    "    for clf in CLASSIFIER_MODES:\n",
    "        for (i, c, cv_best), f1_mean in candidates:\n",
    "            if c[3] == clf:\n",
    "                if cv_best['param'] is not None:\n",
    "                    cv_best['param'] = {k.split('__')[-1]: v\n",
    "                                        for k, v in cv_best['param'].items()}\n",
    "\n",
    "                best_candidate_per_clf += [((i, c, cv_best), f1_mean)]\n",
    "                break\n",
    "\n",
    "    return best_candidate_per_clf"
   ]
  },
  {
   "cell_type": "code",
   "execution_count": 10,
   "metadata": {},
   "outputs": [],
   "source": [
    "with open('./output/pval_filter_60_MVI/output_12to18_yesmental/results.pkl', 'rb') as f:\n",
    "        model_selection_result = pickle.load(f)"
   ]
  },
  {
   "cell_type": "code",
   "execution_count": 6,
   "metadata": {},
   "outputs": [],
   "source": [
    "# model_selection_result"
   ]
  },
  {
   "cell_type": "code",
   "execution_count": 7,
   "metadata": {},
   "outputs": [],
   "source": [
    "with open('./output/10MVIout/output_12to18_yesmental_smotefirst/results.pkl', 'rb') as f:\n",
    "        model_selection_result_smote = pickle.load(f)"
   ]
  },
  {
   "cell_type": "code",
   "execution_count": 8,
   "metadata": {},
   "outputs": [],
   "source": [
    "# model_selection_result_smote"
   ]
  }
 ],
 "metadata": {
  "interpreter": {
   "hash": "fe8a4c17498bfb38ff1297e9cf3182f98fb96035d105efd51d0d5c4b40f5a2b2"
  },
  "kernelspec": {
   "display_name": "Python 3.10.0 ('.depressionnew')",
   "language": "python",
   "name": "python3"
  },
  "language_info": {
   "codemirror_mode": {
    "name": "ipython",
    "version": 3
   },
   "file_extension": ".py",
   "mimetype": "text/x-python",
   "name": "python",
   "nbconvert_exporter": "python",
   "pygments_lexer": "ipython3",
   "version": "3.10.0"
  },
  "orig_nbformat": 4
 },
 "nbformat": 4,
 "nbformat_minor": 2
}
