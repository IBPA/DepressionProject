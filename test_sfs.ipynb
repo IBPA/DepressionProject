{
 "cells": [
  {
   "cell_type": "code",
   "execution_count": 1,
   "metadata": {},
   "outputs": [],
   "source": [
    "from typing import Union\n",
    "\n",
    "from scipy.spatial import distance_matrix\n",
    "from sklearn.manifold import TSNE\n",
    "from sklearn.decomposition import PCA\n",
    "from sklearn.metrics import (\n",
    "    precision_recall_curve,\n",
    "    roc_curve,\n",
    "    average_precision_score,\n",
    "    roc_auc_score,\n",
    "    confusion_matrix)\n",
    "from sklearn.model_selection import KFold\n",
    "from mlxtend.feature_selection import SequentialFeatureSelector as SFS\n",
    "from sklearn.feature_selection import SelectKBest\n",
    "import sklearn\n",
    "import numpy as np\n",
    "import pandas as pd"
   ]
  },
  {
   "cell_type": "code",
   "execution_count": 2,
   "metadata": {},
   "outputs": [],
   "source": [
    "def get_selected_features(\n",
    "        clf: sklearn.base.BaseEstimator,\n",
    "        X: pd.DataFrame,\n",
    "        y: pd.Series,\n",
    "        scoring: str,\n",
    "        splits: Union[int, list[list, list]] = None) -> SFS:\n",
    "    \"\"\"Select features based on the Recursive Feature Elimination.\n",
    "\n",
    "    Args:\n",
    "        clf: A Scikit-learn classifier.\n",
    "        X: The input dataset.\n",
    "        y: The input labels.\n",
    "        splits: An integer indicating the number of folds or a pre-defined\n",
    "            list of training and validation split row indices.\n",
    "\n",
    "    Returns:\n",
    "        The SFS object with RFE result.\n",
    "\n",
    "    \"\"\"\n",
    "    sfs = SFS(\n",
    "        clf,\n",
    "        k_features='parsimonious',\n",
    "        forward=False,\n",
    "        floating=False,\n",
    "        verbose=1,\n",
    "        scoring=scoring,\n",
    "        n_jobs=-1,\n",
    "        cv=splits)\n",
    "    sfs = sfs.fit(X, y)\n",
    "\n",
    "    return sfs"
   ]
  },
  {
   "cell_type": "code",
   "execution_count": 9,
   "metadata": {},
   "outputs": [
    {
     "name": "stderr",
     "output_type": "stream",
     "text": [
      "[Parallel(n_jobs=-1)]: Using backend LokyBackend with 8 concurrent workers.\n",
      "[Parallel(n_jobs=-1)]: Done   4 out of   4 | elapsed:    0.5s remaining:    0.0s\n",
      "[Parallel(n_jobs=-1)]: Done   4 out of   4 | elapsed:    0.5s finished\n",
      "Features: 3/1[Parallel(n_jobs=-1)]: Using backend LokyBackend with 8 concurrent workers.\n",
      "[Parallel(n_jobs=-1)]: Done   3 out of   3 | elapsed:    0.2s finished\n",
      "Features: 2/1[Parallel(n_jobs=-1)]: Using backend LokyBackend with 8 concurrent workers.\n",
      "[Parallel(n_jobs=-1)]: Done   2 out of   2 | elapsed:    0.1s remaining:    0.0s\n",
      "[Parallel(n_jobs=-1)]: Done   2 out of   2 | elapsed:    0.1s finished\n",
      "Features: 1/1"
     ]
    }
   ],
   "source": [
    "from sklearn.datasets import load_iris\n",
    "from sklearn.model_selection import train_test_split\n",
    "from sklearn.ensemble import RandomForestClassifier\n",
    "X, y = load_iris(return_X_y=True)\n",
    "X_train, X_test, y_train, y_test = train_test_split(X, y, test_size=0.2, random_state=0)\n",
    "clf = RandomForestClassifier(n_estimators=100, random_state=0)\n",
    "kf = KFold(n_splits=2, shuffle=True, random_state=0)\n",
    "splits = list(kf.split(X_train)) # list bc otherwise will be generator\n",
    "sfs = get_selected_features(clf, X_train, y_train, 'balanced_accuracy', splits)"
   ]
  },
  {
   "cell_type": "code",
   "execution_count": 10,
   "metadata": {},
   "outputs": [
    {
     "name": "stdout",
     "output_type": "stream",
     "text": [
      "(3,)\n"
     ]
    }
   ],
   "source": [
    "print(sfs.k_feature_idx_)"
   ]
  }
 ],
 "metadata": {
  "kernelspec": {
   "display_name": "Python 3.10.0 ('.depressionnew')",
   "language": "python",
   "name": "python3"
  },
  "language_info": {
   "codemirror_mode": {
    "name": "ipython",
    "version": 3
   },
   "file_extension": ".py",
   "mimetype": "text/x-python",
   "name": "python",
   "nbconvert_exporter": "python",
   "pygments_lexer": "ipython3",
   "version": "3.10.0"
  },
  "orig_nbformat": 4,
  "vscode": {
   "interpreter": {
    "hash": "fe8a4c17498bfb38ff1297e9cf3182f98fb96035d105efd51d0d5c4b40f5a2b2"
   }
  }
 },
 "nbformat": 4,
 "nbformat_minor": 2
}
